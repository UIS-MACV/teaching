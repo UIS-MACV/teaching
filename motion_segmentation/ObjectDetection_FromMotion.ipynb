{
 "cells": [
  {
   "cell_type": "markdown",
   "metadata": {},
   "source": [
    "# De los pixeles a la interpretación\n",
    "   Por: Fabio Martínez, PhD"
   ]
  },
  {
   "cell_type": "markdown",
   "metadata": {},
   "source": [
    "<img src=\"img/computer-vision-banner.jpg\",width=800,height=800>"
   ]
  },
  {
   "cell_type": "markdown",
   "metadata": {},
   "source": [
    "# Como podemos segmentar estos objetos de interes?"
   ]
  },
  {
   "cell_type": "markdown",
   "metadata": {},
   "source": [
    "| - | - |\n",
    "|---|---|\n",
    "|![img](img/level1.png)  | ![img](img/level2.png) |\n",
    "| ![img](img/level3.png) |![img](img/ladron1.png)  |"
   ]
  },
  {
   "cell_type": "markdown",
   "metadata": {},
   "source": [
    "## Primera aproximación\n",
    "\n",
    "#### Hipotesis: Conocemos el fondo ($B$). Podria ser la primera imagen. \n",
    "* Entonces: $E_t(x,y) = \\mid I_{t}(x,y) - B(x,y) \\mid$\n",
    "* Seleccionamos un umbral: $E_{t}(x,y) > \\tau $"
   ]
  },
  {
   "cell_type": "code",
   "execution_count": 1,
   "metadata": {
    "collapsed": true
   },
   "outputs": [],
   "source": [
    "import numpy as np              \n",
    "import cv2\n",
    "import matplotlib.pyplot as plt\n",
    "%matplotlib inline"
   ]
  },
  {
   "cell_type": "code",
   "execution_count": 2,
   "metadata": {},
   "outputs": [],
   "source": [
    "B = cv2.imread('Frames/level1/00000002.jpg',0)\n",
    "#cv2.imshow('fondo', B)\n",
    "# plot\n",
    "#plt.imshow(B, cmap='gray');\n",
    "cv2.startWindowThread()\n",
    "cv2.namedWindow(\"background\")\n",
    "cv2.imshow(\"background\", B)\n",
    "cv2.waitKey(0)\n",
    "cv2.destroyAllWindows()\n",
    "\n",
    "str_temp =  'Frames/level1/000000'\n",
    "cv2.namedWindow(\"Original sequence\")\n",
    "cv2.namedWindow(\"Sub sequence\")\n",
    "\n",
    "thresh = 28 # Intensity in grayscale.\n",
    "# Define maxValue\n",
    "maxValue = 255\n",
    "\n",
    "for i in range(10,56):\n",
    "    img = cv2.imread(str_temp+str(i)+'.jpg',0)\n",
    "    dst = cv2.absdiff(B,img)\n",
    "    #Opencv function\n",
    "    th, dst_th = cv2.threshold(dst, thresh, maxValue, cv2.THRESH_BINARY)    \n",
    "    cv2.startWindowThread()\n",
    "    cv2.imshow(\"Original sequence\", img)\n",
    "    cv2.imshow(\"Sub sequence\", dst_th)\n",
    "    cv2.waitKey(0)\n",
    "\n",
    "cv2.destroyAllWindows()\n",
    "    "
   ]
  },
  {
   "cell_type": "markdown",
   "metadata": {},
   "source": [
    "... A la antiguita!"
   ]
  },
  {
   "cell_type": "code",
   "execution_count": null,
   "metadata": {},
   "outputs": [],
   "source": [
    "B = cv2.imread('Frames/level1/00000002.jpg',0)\n",
    "#cv2.imshow('fondo', B)\n",
    "# plot\n",
    "#plt.imshow(B, cmap='gray');\n",
    "cv2.startWindowThread()\n",
    "cv2.namedWindow(\"background\")\n",
    "cv2.imshow(\"background\", B)\n",
    "cv2.waitKey(0)\n",
    "cv2.destroyAllWindows()\n",
    "\n",
    "str_temp =  'Frames/level1/000000'\n",
    "cv2.namedWindow(\"Original sequence\")\n",
    "cv2.namedWindow(\"Sub sequence\")\n",
    "\n",
    "thresh = 28 # Intensity in grayscale.\n",
    "# Define maxValue\n",
    "maxValue = 255\n",
    "\n",
    "for i in range(10,56):\n",
    "    img = cv2.imread(str_temp+str(i)+'.jpg',0)\n",
    "    dst_th=cv2.imread('Frames/level1/00000003.jpg',0)\n",
    "    \n",
    "    for x in range(img.shape[0]):\n",
    "        for y in range(img.shape[1]):\n",
    "            dst_th[x,y] = abs(B[x,y] - img[x,y])\n",
    "            if img[x,y] > thresh:\n",
    "                dst_th[x,y] = 0\n",
    "            else:\n",
    "                dst_th[x,y] = maxValue           \n",
    "    cv2.startWindowThread()\n",
    "    cv2.imshow(\"Original sequence\", img)\n",
    "    cv2.imshow(\"Sub sequence\", dst_th)\n",
    "    cv2.imwrite('res/res1_'+str(i)+'.jpg',dst_th)\n",
    "    cv2.waitKey(0)\n",
    "\n",
    "cv2.destroyAllWindows()"
   ]
  },
  {
   "cell_type": "markdown",
   "metadata": {},
   "source": [
    "### Problemas? \n",
    "* Si el fondo varia un poco (cambios de iluminación, movimiento de los aboles, movimiento de la cámara)\n",
    "* Si un objeto entra en la escena, tiende  a seguir siendo detectado!. \n",
    "\n",
    "... y entonces? Como mejoramos la estimación del fondo?\n"
   ]
  },
  {
   "cell_type": "markdown",
   "metadata": {},
   "source": [
    "### Obteniendo la imagen promedio...podemos obtener el fondo!\n",
    "   * Calculamos un promedio de imagenes Fondo. ** solo si es posible **\n",
    "   * Calculamos un promedio del video $\\hat{B(x,y)} = \\frac{1}{n}\\sum_{t} I_{t}(x,y)$\n",
    "   * Entonces: $E_t(x,y) = \\mid I_{t}(x,y) - B(x,y) \\mid$\n",
    "   * Seleccionamos un umbral: $E_{t}(x,y) > \\tau $"
   ]
  },
  {
   "cell_type": "code",
   "execution_count": null,
   "metadata": {},
   "outputs": [],
   "source": [
    "cv2.startWindowThread()\n",
    "\n",
    "\n",
    "\n",
    "str_temp =  'Frames/level1/000000'\n",
    "cv2.namedWindow(\"Original sequence\")\n",
    "cv2.namedWindow(\"Sub sequence\")\n",
    "\n",
    "B=cv2.imread('Frames/level1/00000010.jpg',0)\n",
    "\n",
    "#Calculo del fondo--- sumatoria ---\n",
    "for i in range(11,56):\n",
    "    img = cv2.imread(str_temp+str(i)+'.jpg',0)\n",
    "    for x in range(B.shape[0]):\n",
    "        for y in range(B.shape[1]):\n",
    "            B[x,y] = B[x,y] + img[x,y]\n",
    "            \n",
    "#--- divide ---\n",
    "for x in range(img.shape[0]):\n",
    "    for y in range(img.shape[1]):\n",
    "        B[x,y] = B[x,y]/(56-10)\n",
    "        \n",
    "\n",
    "thresh = 28 # Intensity in grayscale.\n",
    "# Define maxValue\n",
    "maxValue = 255\n",
    "\n",
    "cv2.namedWindow(\"estimated background\")\n",
    "cv2.imshow(\"estimated background\", B)\n",
    "cv2.waitKey(0)\n",
    "cv2.destroyAllWindows()\n",
    "\n",
    "\n",
    "for i in range(10,56):\n",
    "    img = cv2.imread(str_temp+str(i)+'.jpg',0)\n",
    "    dst_th=cv2.imread('Frames/level1/00000003.jpg',0)\n",
    "    \n",
    "    for x in range(img.shape[0]):\n",
    "        for y in range(img.shape[1]):\n",
    "            dst_th[x,y] = abs(B[x,y] - img[x,y])\n",
    "            if img[x,y] > thresh:\n",
    "                dst_th[x,y] = 0\n",
    "            else:\n",
    "                dst_th[x,y] = maxValue           \n",
    "    cv2.startWindowThread()\n",
    "    cv2.imshow(\"Original sequence\", img)\n",
    "    cv2.imshow(\"Sub sequence\", dst_th)\n",
    "    cv2.imwrite('res/res2_'+str(i)+'.jpg',dst_th)\n",
    "    cv2.waitKey(0)\n",
    "\n",
    "cv2.destroyAllWindows()"
   ]
  },
  {
   "cell_type": "markdown",
   "metadata": {},
   "source": [
    "Slide Type\n",
    "\n",
    "## Problemas ?\n",
    "1. No es eficiente. Tiene que esperar a que termine el video!\n",
    "2. El promedio es muy grande y puede contener elementos en movimiento!. \n",
    "3. Seguimos funcionando con un umbral fijo: **Manual**\n",
    "​\n",
    "​\n",
    "* Aprendio como fondo objetos que se mueven pero permanentemente estan en el video.\n",
    "* Que nos hace Falta?"
   ]
  },
  {
   "cell_type": "markdown",
   "metadata": {},
   "source": [
    "### ....Como solucionaremos o haremos algoritmos online...Nos vemos en la siguiente temporada"
   ]
  }
 ],
 "metadata": {
  "kernelspec": {
   "display_name": "Python 3",
   "language": "python",
   "name": "python3"
  },
  "language_info": {
   "codemirror_mode": {
    "name": "ipython",
    "version": 3
   },
   "file_extension": ".py",
   "mimetype": "text/x-python",
   "name": "python",
   "nbconvert_exporter": "python",
   "pygments_lexer": "ipython3",
   "version": "3.6.1"
  }
 },
 "nbformat": 4,
 "nbformat_minor": 2
}
